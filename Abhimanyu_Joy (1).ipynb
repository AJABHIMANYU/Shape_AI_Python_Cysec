{
  "nbformat": 4,
  "nbformat_minor": 0,
  "metadata": {
    "colab": {
      "name": "Abhimanyu_Joy.ipynb",
      "provenance": []
    },
    "kernelspec": {
      "name": "python3",
      "display_name": "Python 3"
    },
    "language_info": {
      "name": "python"
    }
  },
  "cells": [
    {
      "cell_type": "code",
      "metadata": {
        "id": "dPxi_F5tps_t",
        "colab": {
          "base_uri": "https://localhost:8080/"
        },
        "outputId": "4550d840-3928-4d8c-a5fb-f53ab028cf02"
      },
      "source": [
        "import requests\n",
        "from datetime import datetime\n",
        "\n",
        "api_key = '3fdf6aee092736b42f17652c36247b7b'\n",
        "location = input(\"Enter city name:\")\n",
        "complete_api_link = \"https://api.openweathermap.org/data/2.5/weather?q=\"+location+\"&appid=\"+api_key\n",
        "\n",
        "api_link = requests.get(complete_api_link)\n",
        "api_data = api_link.json()\n",
        "\n",
        "temp_city = ((api_data['main'] ['temp']) -273.15)\n",
        "weather_desc = api_data['weather'][0]['description']\n",
        "hmdt = api_data['main']['humidity']\n",
        "wind_speed = api_data['wind']['speed']\n",
        "date_time = datetime.now().strftime(\"%d %b %Y | %I:%M:%S %p\")\n",
        "\n",
        "print(\"--------------------------------------\")\n",
        "print(\"Weather stats for - {} || {}\".format(location.upper(),date_time))\n",
        "print(\"--------------------------------------\")\n",
        "\n",
        "print(\"Current temperature is :{:.2f} deg C\".format(temp_city))\n",
        "print(\"Current weather desc   :\",weather_desc)\n",
        "print(\"Current humidity       :\",hmdt,'%')\n",
        "print(\"Current wind speed     :\",wind_speed,'kmph')"
      ],
      "execution_count": 10,
      "outputs": [
        {
          "output_type": "stream",
          "text": [
            "Enter city name:kochi\n",
            "--------------------------------------\n",
            "Weather stats for - KOCHI || 23 Jun 2021 | 09:12:01 AM\n",
            "--------------------------------------\n",
            "Current temperature is :29.99 deg C\n",
            "Current weather desc   : moderate rain\n",
            "Current humidity       : 77 %\n",
            "Current wind speed     : 5.05 kmph\n"
          ],
          "name": "stdout"
        }
      ]
    }
  ]
}